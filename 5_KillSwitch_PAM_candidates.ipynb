{
 "cells": [
  {
   "cell_type": "markdown",
   "metadata": {},
   "source": [
    "# KillSwitch Project: Design Candidate Guide RNAs"
   ]
  },
  {
   "cell_type": "markdown",
   "metadata": {},
   "source": [
    "## Choose an essential gene\n",
    "\n",
    "Used Yeastmine to search for genes whose \"Gene Phenotype Summary\" said they were an \"Essential gene\". Query code in python below:"
   ]
  },
  {
   "cell_type": "code",
   "execution_count": 2,
   "metadata": {
    "collapsed": false
   },
   "outputs": [
    {
     "data": {
      "text/html": [
       "<html><table><tr><th>primaryIdentifier</th> <th>secondaryIdentifier</th> <th>organism.shortName</th> <th>symbol</th> <th>name</th> <th>phenotypeSummary</th></tr><tr><td>S000000973</td> <td>YER171W</td> <td>S. cerevisiae</td> <td>RAD3</td> <td>RADiation sensitive</td> <td>Essential gene; point mutations result in increased mitotic recombination, elevated mutation frequence, and increased UV sensititvity</td></tr><tr><td>S000002284</td> <td>YDL126C</td> <td>S. cerevisiae</td> <td>CDC48</td> <td>Cell Division Cycle</td> <td>Essential gene; conditional mutations cause cell cycle arrest, abnormal cell morphology, aggregation of mitochondria, elongated spindles that fail to disassemble, sensitivity to cell wall-affecting drugs and oxidative stress; overexpression leads to slow growth</td></tr><tr><td>S000001855</td> <td>YFL039C</td> <td>S. cerevisiae</td> <td>ACT1</td> <td>ACTin</td> <td>Essential gene; conditional mutants show pleiotropic defects including abnormal actin cytoskeleton, chromosome instability, altered subcellular morphology, increased sensitivity to heat, multiple chemicals and osmotic stress; overexpression leads to growth arrest</td></tr><tr><td>S000004550</td> <td>YML085C</td> <td>S. cerevisiae</td> <td>TUB1</td> <td>TUBulin</td> <td>Essential gene; heterozygous diploid null mutants are haploinsufficient and sensitive to heat, TOR inhibitor rapamycin, and actin polymerization inhibitor latrunculin A; conditional mutants have abnormal spindles at cold temperatures; overexpression interferes with the cell cycle and slows growth</td></tr><tr><td>S000003008</td> <td>YGL040C</td> <td>S. cerevisiae</td> <td>HEM2</td> <td>HEMe biosynthesis</td> <td>Essential gene on standard rich medium due to heme auxotrophy; mutants lack ergosterol; in large-scale studies, repressing expression confers increased competitive fitness; heterozygous null diploid shows haploinsufficiency</td></tr><tr><td>S000005785</td> <td>YOR259C</td> <td>S. cerevisiae</td> <td>RPT4</td> <td>Regulatory Particle Triple-A protein, or Regulatory Particle Triphosphatase</td> <td>Essential gene; mutations cause resistance to tunicamycin, sensitivity to heat, cycloheximide, and cadmium ions, slow growth, and accumulation of proteasome substrates; in large-scale studies, repression causes abnormal mitochondrial morphology and an Opi- phenotype (overproduction and excretion of inositol in the absence of inositol and choline); diploid heterozygous null mutant is haploinsufficient and displays enlarged cell size and sensitivity to trapoxin A and 3-nitroso-2-phenylimidazo[1,2-a]pyridine</td></tr><tr><td>S000005643</td> <td>YOR117W</td> <td>S. cerevisiae</td> <td>RPT5</td> <td>Regulatory Particle Triple-A protein, or Regulatory Particle Triphosphatase</td> <td>Essential gene; mutations in the ATPase active site cause sensitivity to heat and canavanine, shorter replicative lifespan, slow growth, and increased budding index; in large-scale studies, repression causes reduced competitive fitness, sensitivity to MMS, resistance to myriocin, and shorter telomere length; diploid heterozygous null mutant exhibits enlarged cell size and haploinsufficiency</td></tr><tr><td>S000001665</td> <td>YKL182W</td> <td>S. cerevisiae</td> <td>FAS1</td> <td>Fatty Acid Synthetase</td> <td>Essential gene; null mutant is rescuable by fatty acid supplement; heterozygous diploid accumulates very long-chain fatty acids</td></tr><tr><td>S000005046</td> <td>YNL102W</td> <td>S. cerevisiae</td> <td>POL1</td> <td>POLymerase</td> <td>Essential gene; heat-sensitive mutant arrests as large-budded cells with nuclei at the mother-bud neck; point mutations affect minichromosome maintenance, chromosome stability, lifespan, mutation frequency, and telomere length; repression in a diploid causes increases in mitotic and meiotic recombination</td></tr><tr><td>S000005770</td> <td>YOR244W</td> <td>S. cerevisiae</td> <td>ESA1</td> <td>None</td> <td>Essential gene; conditional mutants exhibit heat sensitivity; in a large-scale study, depletion confers an Opi- phenotype, overproduction and excretion of inositol in the absence of inositol and choline</td></tr><tr><td>S000004016</td> <td>YLR026C</td> <td>S. cerevisiae</td> <td>SED5</td> <td>Suppressor of Erd2 Deletion</td> <td>Essential gene; ts mutant fails to sort Atg9p from mitochondria to preautophagosomes at the restrictive temperature; in large-scale studies, repression causes abnormal mitochondrial morphology and sensitivity to myriocin; overexpression causes a G2 or M cell cycle arrest or delay; diploid heterozygous null mutant is haploinsufficient</td></tr><tr><td>S000004213</td> <td>YLR223C</td> <td>S. cerevisiae</td> <td>IFH1</td> <td>Interacts with Fork Head</td> <td>Essential gene; overexpression slows growth, interferes with silencing, and increases production of ribosomal protein mRNAs; reduced function alleles increase lifespan, hamper growth and rRNA processing, reduce resistance to DNA damaging agents and TOR inhibitor rapamycin; heterozygous diploids are haploinsufficient</td></tr><tr><td>S000004911</td> <td>YMR296C</td> <td>S. cerevisiae</td> <td>LCB1</td> <td>Long-Chain Base</td> <td>Essential gene; repression results in depletion of sphingoid long-chain bases, defects in endocytosis and shmoo formation, increased sensitivity to heat and oxidative stress</td></tr><tr><td>S000001779</td> <td>YKR071C</td> <td>S. cerevisiae</td> <td>DRE2</td> <td>Derepressed for Ribosomal protein S14 Expression</td> <td>Essential gene; depletion disrupts distribution and activity of several iron-sulfur proteins and increases chromosome instability; reduction of function or overexpression both result in slow growth</td></tr><tr><td>S000001406</td> <td>YIL144W</td> <td>S. cerevisiae</td> <td>NDC80</td> <td>Nuclear Division Cycle</td> <td>Essential gene; reduction of function leads to slow growth, abnormal spindle morphology and cell cycle progression, increased chromosome loss, and sensitivity to benomyl, hydroxyurea; overexpression causes increased cell size and abnormal nuclear morphology</td></tr><tr><td>S000005430</td> <td>YOL069W</td> <td>S. cerevisiae</td> <td>NUF2</td> <td>NUclear Filament-containing protein</td> <td>Essential gene; depletion leads to increased frequency of chromosomal rearrangements and chromosome loss; overexpression also causes chromosome instability</td></tr><tr><td>S000003837</td> <td>YJR076C</td> <td>S. cerevisiae</td> <td>CDC11</td> <td>Cell Division Cycle</td> <td>Essential gene; conditional mutant displays cell cycle arrest with severe cytokinesis defect, arresting with large, multibudded, multinucleate cells at elevated temperature; conditional mutant displays both altered budding pattern and highly elongated bud morphology at semi-permissive temperature; overexpression results in a decreased rate of vegetative growth, large, elongated, multibudded, cells with hyperpolarized buds; repressible mutant has increased inositol excretion phenotype; heterozygous null mutant displays increased thermotolerance in stationary phase</td></tr><tr><td>S000003322</td> <td>YGR090W</td> <td>S. cerevisiae</td> <td>UTP22</td> <td>U Three Protein</td> <td>Essential gene; repression causes retention of tRNAs in the nucleus; in large-scale studies, heterozygous null mutant diploid displays chromosome instability and is haploinsufficient; repression confers resistance to myriocin and decreased competitive fitness</td></tr><tr><td>S000006252</td> <td>YPR048W</td> <td>S. cerevisiae</td> <td>TAH18</td> <td>Top1T722A mutant Hypersensitive</td> <td>Essential gene; ts alleles confer resistance to hydrogen peroxide, while overexpression confers sensitivity; in large-scale studies, repression confers increased competitive fitness and reduced incorporation of Fe-S clusters into enzymes</td></tr><tr><td>S000004332</td> <td>YLR340W</td> <td>S. cerevisiae</td> <td>RPP0</td> <td>Ribosomal Protein P0</td> <td>Essential gene in S288C; repression causes slow growth and accumulation of free 60S ribosomal subunits; in Sigma1278b null mutation causes decreased filamentous growth and absence of invasive growth</td></tr><tr><td>S000000364</td> <td>YBR160W</td> <td>S. cerevisiae</td> <td>CDC28</td> <td>Cell Division Cycle</td> <td>Essential gene; conditional mutants display allele specific cell cycle arrest as either large, unbudded, conjugation-competent cells with a single, undivided nucleus and pear-shaped morphology at START in the G1 phase or as abnormally large, elongated cells with undivided nuclei at the G2/M phase transition; reduction-of-function mutant has a decreased rate of growth and buds in a bipolar or unipolar manner; conditional mutants are benomyl sensitive, have an elevated rate of plasmid and chromosome loss, and accumulate trigylcerides; homozygous diploid mutants have a sporulation defect</td></tr><tr><td>S000001595</td> <td>YKL112W</td> <td>S. cerevisiae</td> <td>ABF1</td> <td>ARS-Binding Factor 1</td> <td>Essential gene; overexpression variously reported to cause sensitivity to nocodazol, decreased growth rate, or lethality; conditional mutants show delayed progression through G2 phase</td></tr><tr><td>S000004894</td> <td>YMR281W</td> <td>S. cerevisiae</td> <td>GPI12</td> <td>GlycosylPhosphatidylInositol anchor biosynthesis</td> <td>Essential gene; in large-scale studies, repression of expression causes decreased competitive fitness and confers Opi- phenotype (overproduction and excretion of inositol in the absence of inositol and choline); overexpression enhances filamentous growth; conditional mutant exhibits increased resistance to K28 killer toxin</td></tr><tr><td>S000002161</td> <td>YDL003W</td> <td>S. cerevisiae</td> <td>MCD1</td> <td>Mitotic Chromosome Determinant</td> <td>Essential gene; conditional mutant has a mitotic delay, with loss of viability, chromosome segregation defects, and chromosomal instability; conditional mutant has increased sensitivity to UV radiation, gamma rays and nocodazole and abnormal spindle morphology</td></tr><tr><td>S000000032</td> <td>YAL034W-A</td> <td>S. cerevisiae</td> <td>MTW1</td> <td>Mis TWelve-like</td> <td>Essential gene; heterozygous null mutant displays decreased fitness; conditional mutant is heat-sensitive and shows chromosome instability (CIN); reduced expression causes increased DNA damage and chromosome instability</td></tr><tr><td>S000006312</td> <td>YPR108W</td> <td>S. cerevisiae</td> <td>RPN7</td> <td>Regulatory Particle Non-ATPase</td> <td>Essential gene; conditional (ts) mutants accumulate polyubiquitinated proteins and show abnormal cell cycle transition through G2/M phase and increased cell size</td></tr><tr><td>S000005321</td> <td>YNR038W</td> <td>S. cerevisiae</td> <td>DBP6</td> <td>Dead Box Protein</td> <td>Essential gene; repressible and dominant-negative mutants have decreased growth rates; repressible mutant displays a deficit in 60S ribosomal subunits accumulation; repressible mutant leads to decreased accumulation of 27S and 7S rRNA precursors, and depletion of mature 25S and 5.8S rRNA species; conditional mutant has a colony sectoring defect indicative of chromosome instability; heterozygous diploid null is haploinsufficient</td></tr><tr><td>S000003443</td> <td>YGR211W</td> <td>S. cerevisiae</td> <td>ZPR1</td> <td>Zinc finger PRotein</td> <td>Essential gene; conditional mutants display sensitivity to rapamycin, MMS, cycloheximide, and other chemicals; mutant cells are enlarged, form chains, and accumulate in G2/M phase; in large-scale studies, repression causes decreased competitive fitness and sensitivity to HU</td></tr><tr><td>S000001111</td> <td>YHR069C</td> <td>S. cerevisiae</td> <td>RRP4</td> <td>Ribosomal RNA Processing</td> <td>Essential gene; ts mutant is sensitive to benomyl and nocodazole at the permissive temperature; ts mutation and repression cause accumulation of unprocessed RNAs; in large-scale studies, ts mutant shows chromosome instability at the semi-permissive temperature; diploid heterozygous null mutant is haploinsufficient, sensitive to heat and oxidative stress, and has reduced competitive fitness</td></tr><tr><td>S000001885</td> <td>YFL009W</td> <td>S. cerevisiae</td> <td>CDC4</td> <td>Cell Division Cycle</td> <td>Essential gene; many conditional alleles result in a cell cycle arrest at the G1/S phase transition, but cells that are first synchronized in S phase will delay at the G2/M phase transition; a few alleles will naturally arrest at both G1/S and G2/M phase transitions; conditional mutants have an elevated rate of chromosome loss at semi-permissive temperature and increased stability of certain reporter proteins; homozygous diploids are unable to sporulate at semi-permissive temperatures</td></tr><tr><td>S000006173</td> <td>YPL252C</td> <td>S. cerevisiae</td> <td>YAH1</td> <td>Yeast Adrenodoxin Homolog</td> <td>Essential gene; ts allele causes a decrease in the ratio of heme A to heme B at semi-permissive temperature; repression causes decreased accumulation of uniquinone-6 and increased accumulation of ferric nanoparticles; in large-scale studies, repression confers increased competitive fitness and abnormal mitochondrial morphology; conditional mutant is sensitive to benomyl and MMS</td></tr><tr><td>S000003261</td> <td>YGR029W</td> <td>S. cerevisiae</td> <td>ERV1</td> <td>Essential for Respiration and Viability</td> <td>Essential gene; conditional mutations disrupt mitochondrial protein import and prevent respiratory growth; null mutant is viable but slow growing under anaerobic growth conditions</td></tr><tr><td>S000004157</td> <td>YLR167W</td> <td>S. cerevisiae</td> <td>RPS31</td> <td>Ribosomal Protein of the Small subunit</td> <td>Essential gene; reduction of function leads to increased telomere length and benomyl sensitivity; heterozygous null mutant diploid shows increased innate thermotolerance</td></tr><tr><td>S000004202</td> <td>YLR212C</td> <td>S. cerevisiae</td> <td>TUB4</td> <td>TUBulin</td> <td>Essential gene; heterozygous diploid null mutants have large cells with hyperelongated spindles and chromosome instability; phosphorylation mutants have abnormal spindles; repression mutants have abnormal mitochondria and arrest in M phase; conditional mutants grow slowly, have abnormally short anaphase spindles, and are sensitive to heat; activation mutants are resistant to microtubule-destabilizing agent benomyl</td></tr><tr><td>S000000340</td> <td>YBR136W</td> <td>S. cerevisiae</td> <td>MEC1</td> <td>Mitosis Entry Checkpoint</td> <td>Essential gene; in an SML1 mutant background the null mutant displays decreased resistance to UV light, ionizing radiation, and DNA replication inhibitors that are also DNA damaging agents; null mutant inhibits phosphorylation of Rad26p, Cdc13p, and Ddc1p, and increases sumoylation of Rfa1p, Rfa2p, and Rad52p; reduction-of-function mutant has decreased G1 arrest, reduced chronological lifespan and increased apoptosis following nutrient depletion; reduction-of-function mutant has elevated mitotic recombination and decreased telomere length; overexpression results in reduced vegetative growth; heterozygous diploid null mutant has elevated chromosomal instability</td></tr><tr><td>S000003499</td> <td>YGR267C</td> <td>S. cerevisiae</td> <td>FOL2</td> <td>FOLic acid synthesis</td> <td>Essential gene; null mutant can be rescued by exogenous formyltetrahydrofolic acid; depletion causes S phase delay and increased chromosome loss; overexpression increases filamentous growth</td></tr><tr><td>S000001746</td> <td>YKR038C</td> <td>S. cerevisiae</td> <td>KAE1</td> <td>Kinase-Associated Endopeptidase</td> <td>Essential gene; reduction of function depletes tRNA t6A modification and leads to slow growth, shortened telomeres and severe chromosome instability</td></tr><tr><td>S000002172</td> <td>YDL014W</td> <td>S. cerevisiae</td> <td>NOP1</td> <td>NucleOlar Protein</td> <td>Essential gene; repression leads to reduced levels of pre-rRNA species, increased accumulation of snRNAs and defects in small ribosomal subunits biogenesis; overexpression causes G1 phase delay and slow growth</td></tr><tr><td>S000001532</td> <td>YKL049C</td> <td>S. cerevisiae</td> <td>CSE4</td> <td>Chromosome SEgregation</td> <td>Essential gene; downregulation of expression causes abnormal chromosome segregation; conditional mutants display reduced levels of centromere-localized proteins at the restrictive temperature; in large-scale studies, overexpression causes decreased growth rate; heterozygous null mutant is haploinsufficient</td></tr><tr><td>S000003110</td> <td>YGL142C</td> <td>S. cerevisiae</td> <td>GPI10</td> <td>GlycosylPhosphatidylInositol anchor biosynthesis</td> <td>Essential gene; ts mutant is sensitive to caffeine and SDS at permissive temperature; overexpression confers increased resistance to the GPI synthesis inhibitor YW3548; in large-scale studies, repression of expression causes increased competitive fitness; conditional mutants display chromosome instability and elevated resistance to K28 killer toxin</td></tr><tr><td>S000001900</td> <td>YFR004W</td> <td>S. cerevisiae</td> <td>RPN11</td> <td>Regulatory Particle Non-ATPase</td> <td>Essential gene; conditional (ts) mutants show fragmented mitochondria, increased number of peroxisomes, and abnormal localization of proteasome subunits; mutants show decreased survival in stationary phase; repression leads to opi- phenotype (excretion of inositol in the absence of inositol and choline</td></tr><tr><td>S000005758</td> <td>YOR232W</td> <td>S. cerevisiae</td> <td>MGE1</td> <td>Mitochondrial GrpE</td> <td>Essential gene; overexpression is lethal; point mutants display increased oxidative stress resistance, heat sensitivity, and defective mitochondrial import</td></tr><tr><td>S000003036</td> <td>YGL068W</td> <td>S. cerevisiae</td> <td>MNP1</td> <td>Mitochondrial-Nucleoid Protein</td> <td>Essential gene in S288C, non-essential in W303; null mutant in W303 shows petite phenotype indicative of respiratory growth defect</td></tr><tr><td>S000002789</td> <td>YDR381W</td> <td>S. cerevisiae</td> <td>YRA1</td> <td>Yeast RNA Annealing protein</td> <td>Essential gene; reduction-of-function mutants glow slowly and are sensitive to heat, DNA synthesis inhibitor HU, and microtubule-destabilizing agent benomyl; overexpression causes cell-cycle arrest and decreased budding</td></tr><tr><td>S000003090</td> <td>YGL122C</td> <td>S. cerevisiae</td> <td>NAB2</td> <td>Nuclear polyAdenylated RNA-Binding</td> <td>Essential gene; conditional (ts) mutations result in accumulation of poly(A)+ mRNAs in the nucleus; haploinsufficient; overexpression in Sigma1278b increases invasive growth; overexpression causes slow growth</td></tr><tr><td>S000006132</td> <td>YPL211W</td> <td>S. cerevisiae</td> <td>NIP7</td> <td>Nuclear ImPort</td> <td>Essential gene; depletion leads to abnormal mitochondrial morphology; conditional (ts) mutant is sensitive to paromomycin and accumulates abnormal polysomes (halfmers)</td></tr><tr><td>S000002428</td> <td>YDR021W</td> <td>S. cerevisiae</td> <td>FAL1</td> <td>eukaryotic translation initiation factor Four A Like</td> <td>Essential gene; dominant negative mutant accumulates aberrant rRNA processing intermediates and grows slowly; haploinsufficient</td></tr><tr><td>S000000564</td> <td>YCL059C</td> <td>S. cerevisiae</td> <td>KRR1</td> <td>contains KRR-R motif</td> <td>Essential gene; repression causes the accumulation of rRNA precursors; in large-scale studies, repression causes reduced competitive fitness, increased diploidization, and sensitivity to MMS; diploid heterozygous null mutant is haploinsufficient</td></tr><tr><td>S000003778</td> <td>YJR017C</td> <td>S. cerevisiae</td> <td>ESS1</td> <td>ESSential</td> <td>Essential gene; depletion leads to cell cycle arrest at M phase; conditional mutations cause reduced histone H3 methylation, sensitivity to 4-NQO, MMS, cyclosporin A and UV; overexpression causes slow growth</td></tr><tr><td>S000002976</td> <td>YGL008C</td> <td>S. cerevisiae</td> <td>PMA1</td> <td>Plasma Membrane ATPase</td> <td>Essential gene; mutations cause heat sensitivity, reduced innate thermotolerance, killer toxin resistance, longer replicative lifespan, and increased formation of the [GAR+] prion; in large-scale studies, heterozygous null mutant has decreased competitive fitness and shows altered resistance to various chemicals; overexpression also confers a growth disadvantage</td></tr><tr><td>S000004603</td> <td>YMR001C</td> <td>S. cerevisiae</td> <td>CDC5</td> <td>Cell Division Cycle</td> <td>Essential gene; conditional and repressible mutants arrest as large-budded cells in telophase with an abnormal nuclear morphology; overexpression results in a large multibudded cell cycle arrest with an abnormal actin cytoskeleton, an increase in bipolar budding, and cells with multiple nuclei; homozygous diploid mutants have an increased frequency of chromosome loss, defective meiosis and reduced sporulation</td></tr><tr><td>S000000347</td> <td>YBR143C</td> <td>S. cerevisiae</td> <td>SUP45</td> <td>SUPpressor</td> <td>Essential gene; mutations cause aberrant cell shape and sensitivity to heat, cold, hyperosmotic stress, caffeine, HU, paromomycin, or cycloheximide; ts mutation blocks cytokinesis at the restrictive temperature; mutation blocks respiratory growth; mutations confer increased resistance to K. lactis zymocin and increased accumulation of certain tRNAs; in large-scale studies, repression confers lower competitive fitness; conditional mutant displays chromosome instability at the semi-permissive temperature; overexpression causes slow growth and G1 phase arrest or delay; diploid heterozygous null mutant is sensitive to starvation and echinocandin, and displays haploinsufficiency</td></tr><tr><td>S000000119</td> <td>YBL023C</td> <td>S. cerevisiae</td> <td>MCM2</td> <td>MiniChromosome Maintenance</td> <td>Essential gene; null mutant displays increased thermotolerance, decreased filamentous growth and is unable to invade agar; null, reduction of function and conditional mutants display chromosomal instability with gross-chromosomal rearrangements; conditional and repressible mutants arrest in S phase with unreplicated DNA; conditional mutant has an elevated mutation frequency; heterozygous diploid null is haploinsufficient</td></tr><tr><td>S000001213</td> <td>YHR170W</td> <td>S. cerevisiae</td> <td>NMD3</td> <td>Nonsense-Mediated mRNA Decay</td> <td>Essential gene; conditional (ts) mutants fail to export 60S ribosomal subunits from the nucleus; haploinsufficient, null mutation in heterozygous diploid causes growth defects, chromosome instability, and sensitivity to starvation</td></tr><tr><td>S000006014</td> <td>YPL093W</td> <td>S. cerevisiae</td> <td>NOG1</td> <td>NucleOlar G-protein</td> <td>Essential gene; several point mutations cause slow growth; haploinsufficient, null mutation in heterozygous diploid results in decreased cell size, slow growth and starvation sensitivity</td></tr><tr><td>S000001856</td> <td>YFL038C</td> <td>S. cerevisiae</td> <td>YPT1</td> <td>Yeast Protein Two</td> <td>Essential gene; conditional mutants are slow-growing, sensitive to both heat and cold, have fragmented DNA, abnormal ER morphology and aberrant microtubules, undergo cell cycle arrest, do not undergo autophagy, and are sensitive to nitrogen starvation, antibiotics and dopaminergic antagonists; reduction-of-function mutants display chromosome instability and decreased fitness; homozygous diploid conditional mutants fail to sporulate</td></tr><tr><td>S000001676</td> <td>YKL193C</td> <td>S. cerevisiae</td> <td>SDS22</td> <td>homolog of S. pombe SDS22</td> <td>Essential gene; sds22-77 frameshift mutation causes heat- and cold-sensitivity and sensitivity to CsCl, formamide, and rapamycin at the restrictive temperature; in large-scale studies, repression confers reduced competitive fitness; sds22-5 mutant displays chromosome instability at the semi-permissive temperature; diploid heterozygous null mutant is haploproficient but sensitive to starvation and to human cationic antimicrobial peptide derivatives</td></tr><tr><td>S000002998</td> <td>YGL030W</td> <td>S. cerevisiae</td> <td>RPL30</td> <td>Ribosomal Protein of the Large subunit</td> <td>Essential gene; reduction-of-function mutations result in slow growth and increased chromosome instability; heterozygous null mutant diploid is sensitive to starvation and oxidative stress</td></tr><tr><td>S000005493</td> <td>YOL133W</td> <td>S. cerevisiae</td> <td>HRT1</td> <td>High level expression Reduces Ty3 transposition</td> <td>Essential gene; reduction-of-function mutations cause decreased telomere length and increased sensitivity to MMS, sulfanilamide and verrucarin A</td></tr><tr><td>S000005195</td> <td>YNL251C</td> <td>S. cerevisiae</td> <td>NRD1</td> <td>Nuclear pre-mRNA Down-regulation</td> <td>Essential gene; reduction of function results in accumulation of abnormally processed mRNA, rRNA, snRNA precursors; mutants show small cell size and slow growth; overexpression increases invasive growth in Sigma1278b</td></tr><tr><td>S000006391</td> <td>YPR187W</td> <td>S. cerevisiae</td> <td>RPO26</td> <td>RNA POlymerase</td> <td>Essential gene; conditional (ts) mutants have lower accumulation of rRNA, mRNA and tRNA and show inositol auxotrophy</td></tr><tr><td>S000005005</td> <td>YNL061W</td> <td>S. cerevisiae</td> <td>NOP2</td> <td>NucleOlar Protein</td> <td>Essential gene; reduction of function results in defects in pre-rRNA processing that leads to decreased production of mature rRNA and 60S ribosomal subunits</td></tr><tr><td>S000002986</td> <td>YGL018C</td> <td>S. cerevisiae</td> <td>JAC1</td> <td>J-type Accessory Chaperone</td> <td>Essential gene; reduction of function leads to slow growth, sensitivity to benomyl, tunicamycin and MMS</td></tr><tr><td>S000003280</td> <td>YGR048W</td> <td>S. cerevisiae</td> <td>UFD1</td> <td>Ubiquitin Fusion Degradation protein</td> <td>Essential gene; ts mutant exhibits G1 cell cycle delay at restrictive temperature; ts and missense mutant show abnormal accumulation and distribution of substrate proteins, and sensitivity to hygromycin B and paromomycin; missense mutant is sensitive to Huntingtin protein while overexpression confers resistance; in large-scale studies, repression causes increased DNA damage and abnormal mitochondrial morphology; ts allele confers sensitivity to benomyl</td></tr><tr><td>S000000031</td> <td>YAL033W</td> <td>S. cerevisiae</td> <td>POP5</td> <td>Processing Of Precursor RNAs</td> <td>Essential gene; overexpression causes decreased vegetative growth rate; diploid heterozygous null mutant displays increased resistance to heat shock during stationary phase, but decreased resistance during exponential growth</td></tr><tr><td>S000003709</td> <td>YJL173C</td> <td>S. cerevisiae</td> <td>RFA3</td> <td>Replication Factor A</td> <td>Essential gene; null mutant displays abnormal cellular morphology and increased mutation frequency</td></tr><tr><td>S000005256</td> <td>YNL312W</td> <td>S. cerevisiae</td> <td>RFA2</td> <td>Replication Factor A</td> <td>Essential gene; null mutant has decreased resistance to heat, UV, and DNA-damaging agents; abnormal cellular morphology, cell cycle progression, and shortened telomeres</td></tr><tr><td>S000000065</td> <td>YAR007C</td> <td>S. cerevisiae</td> <td>RFA1</td> <td>Replication Factor A</td> <td>Essential gene; null mutant has decreased resistance to heat, UV, and DNA-damaging agents; abnormal spindle morphology/positioning, cell cycle progression, chromosome segregation and budding</td></tr><tr><td>S000000001</td> <td>YAL001C</td> <td>S. cerevisiae</td> <td>TFC3</td> <td>Transcription Factor class C</td> <td>Essential gene; conditional mutants display abnormal protein distribution of condensin complex subunit proteins, Brn1p and Scc4p resulting in decreased association of these proteins with chromosomes; heterozygous null mutant shows a decreased rate of growth</td></tr><tr><td>S000002493</td> <td>YDR086C</td> <td>S. cerevisiae</td> <td>SSS1</td> <td>Sec Sixty-one Suppressor</td> <td>Essential gene; double mutation in the TMS domain causes slow growth and abnormal ER morphology; conditional mutant accumulates prepro-carboxypeptidase Y; in large-scale studies, mutant displays increased resistance to cycloheximide and rapamycin; diploid heterozygous null mutant is sensitive to ascomycin and resistant to heat shock</td></tr><tr><td>S000000066</td> <td>YAR008W</td> <td>S. cerevisiae</td> <td>SEN34</td> <td>Splicing ENdonuclease</td> <td>Essential gene; null mutant displays defect in tRNA and rRNA processing, and delayed progression through the G1/S cell cycle phase transition</td></tr><tr><td>S000004249</td> <td>YLR259C</td> <td>S. cerevisiae</td> <td>HSP60</td> <td>Heat Shock Protein</td> <td>Essential gene; conditional mutations cause increased frequency of rho- mutations and decreased growth rate; overexpression in diploid Sigma1278b increases pseudohyphal invasive growth</td></tr><tr><td>S000000003</td> <td>YAL003W</td> <td>S. cerevisiae</td> <td>EFB1</td> <td>Elongation Factor Beta</td> <td>Essential gene in S288C and W303 but non-essential in Sigma1278b; heterozygous null mutant displays both decreased growth and decreased resistance to starvation; disruption of complex formation with EF1A results in the loss of actin cables and patches and an increase in cell size</td></tr><tr><td>S000000760</td> <td>YEL034W</td> <td>S. cerevisiae</td> <td>HYP2</td> <td>HYPusine-containing protein</td> <td>Essential gene in S288C; conditional (ts) mutations lead to accumulation of polysomes, abnormal actin cytoskeleton and defects in shmoo formation; null mutant is reported as viable but slow growing in some strain backgrounds</td></tr><tr><td>S000006245</td> <td>YPR041W</td> <td>S. cerevisiae</td> <td>TIF5</td> <td>Translation Initiation Factor</td> <td>Essential gene; repression causes accumulation of halfmer polysomes; ts mutations in the C-terminal domain confer sensitivity to amitrole at the restrictive temperature; mutation that blocks GDP-dissociation inhibitor (GDI) activity also confers amitrole sensitivity; in large-scale studies, the diploid heterozygous null mutant exhibits chromosome instability; repression confers reduced competitive fitness; overexpression causes slow growth</td></tr><tr><td>S000003041</td> <td>YGL073W</td> <td>S. cerevisiae</td> <td>HSF1</td> <td>Heat Shock transcription Factor</td> <td>Essential gene; overexpression arrests growth in haploid, increases invasive growth in diploid; reduced function decreases resistance to TOR innibitor rapamycin, increases competitive fitness; conditional alleles confer sensitivity to heat and to microtubule-destabilising agent benomyl; R206S substitution makes protein constitutively active</td></tr><tr><td>S000001207</td> <td>YHR164C</td> <td>S. cerevisiae</td> <td>DNA2</td> <td>DNA synthesis defective</td> <td>Essential gene; repression causes chromosome instability; conditional mutations confer heat sensitivity, sensitivity to MMS and cadmium ions, and slow growth with shortened lifespan even at the permissive temperature</td></tr><tr><td>S000005853</td> <td>YOR326W</td> <td>S. cerevisiae</td> <td>MYO2</td> <td>MYOsin</td> <td>Essential gene; conditional (ts) mutations result in cell cycle arrest and blocked cytokinesis; depletion leads to opi- phenotype (overproduction and excretion of inositol in the absence of inositol and choline); overexpression causes cell cycle arrest</td></tr><tr><td>S000002461</td> <td>YDR054C</td> <td>S. cerevisiae</td> <td>CDC34</td> <td>Cell Division Cycle</td> <td>Essential gene; conditional mutants display a cell cycle arrest in the G1 phase with both elongated and and multi-budded cells; mutation results in increased accumulation and decreased ubiquitination of specific proteins, decreased resistance to metals and DNA damaging agents, decreased telomere length, decreased innate thermotolerance and abnormal mitochondrial morphology; overexpression results in decreased growth rate, increased resistance to metals, increased ubiquitination of specific proteins, and abnormal vacuolar morphology</td></tr><tr><td>S000001679</td> <td>YKL196C</td> <td>S. cerevisiae</td> <td>YKT6</td> <td>None</td> <td>Essential gene; repression causes accumulation of ER membranes and cytoplasmic vesicles, and secretion of unprocessed proteins; in large-scale studies, heterozygous null mutant diploid displays haploinsufficiency and sensitivity to human antimicrobial peptides</td></tr></table></html>"
      ],
      "text/plain": [
       "<IPython.core.display.HTML object>"
      ]
     },
     "execution_count": 2,
     "metadata": {},
     "output_type": "execute_result"
    }
   ],
   "source": [
    "from IPython.display import HTML\n",
    "from intermine.webservice import Service\n",
    "service = Service(\"http://yeastmine.yeastgenome.org/yeastmine/service\")\n",
    "query = service.new_query(\"Gene\")\n",
    "query.add_view(\n",
    "    \"primaryIdentifier\", \"secondaryIdentifier\", \"organism.shortName\", \"symbol\",\n",
    "    \"name\", \"phenotypeSummary\"\n",
    ")\n",
    "query.add_constraint(\"phenotypes.strainBackground\", \"=\", \"W303\", code = \"A\")\n",
    "query.add_constraint(\"phenotypeSummary\", \"LIKE\", \"Essential gene*\", code = \"B\")\n",
    "\n",
    "columns = [\"primaryIdentifier\", \"secondaryIdentifier\", \"organism.shortName\", \"symbol\", \"name\", \"phenotypeSummary\"]\n",
    "\n",
    "output = '<html><table>'\n",
    "output += '<tr>' + ' '.join(['<th>'+k+'</th>' for k in columns]) + '</tr>'\n",
    "for row in query.rows():\n",
    "    output += '<tr>' + ' '.join(['<td>'+str(row[c])+'</td>' for c in columns]) + '</tr>'\n",
    "output += '</table></html>'\n",
    "HTML(output)"
   ]
  },
  {
   "cell_type": "markdown",
   "metadata": {},
   "source": [
    "Out of those results, I selected the following 2 genes:\n",
    "\n",
    "- **[LCB1 / YMR296C](http://www.yeastgenome.org/locus/S000004911/overview):** This is responsible for sphingolopid synthesis, defects in this gene result in inviablity. I picked it because it said it causes \"shmoo formation\" which sounded cool.\n",
    "- **[RPT5 / YOR117W](http://www.yeastgenome.org/locus/S000005643/overview):** This is one of the 6 ATPases, mutations cause short lifespan, shorter telomeres."
   ]
  },
  {
   "cell_type": "markdown",
   "metadata": {},
   "source": [
    "## Find candidate PAM sites & design guide RNA"
   ]
  },
  {
   "cell_type": "code",
   "execution_count": null,
   "metadata": {
    "collapsed": true
   },
   "outputs": [],
   "source": [
    "import coral\n",
    "from collections import defaultdict"
   ]
  },
  {
   "cell_type": "code",
   "execution_count": null,
   "metadata": {
    "collapsed": true
   },
   "outputs": [],
   "source": [
    "sites = defaultdict(defaultdict)"
   ]
  },
  {
   "cell_type": "code",
   "execution_count": null,
   "metadata": {
    "collapsed": false
   },
   "outputs": [],
   "source": [
    "lcb1_promoter = coral.database.get_yeast_promoter_ypa('LCB1')\n",
    "lcb1_promoter.name = 'LCB1-Promoter'\n",
    "lcb1_promoter.features.append(coral.Feature('LCB1-Promoter', 0, len(lcb1_promoter), 'promoter'))\n",
    "lcb1_promoter.display()"
   ]
  },
  {
   "cell_type": "code",
   "execution_count": null,
   "metadata": {
    "collapsed": false
   },
   "outputs": [],
   "source": [
    "lcb1_cds = coral.database.fetch_yeast_locus_sequence('LCB1')\n",
    "lcb1_cds.name = 'LCB1'\n",
    "lcb1_cds.features.append(coral.Feature('LCB1', 0, len(lcb1_cds), 'CDS'))\n",
    "lcb1_cds.display()"
   ]
  },
  {
   "cell_type": "code",
   "execution_count": null,
   "metadata": {
    "collapsed": false,
    "scrolled": true
   },
   "outputs": [],
   "source": [
    "# find 'NGG' sites, list the last 10 in the promoter (forward direction)\n",
    "lcb1_promoter.locate('GG')[0][-10:]"
   ]
  },
  {
   "cell_type": "code",
   "execution_count": null,
   "metadata": {
    "collapsed": false
   },
   "outputs": [],
   "source": [
    "# design guide RNA (20bp 5' from PAM site)\n",
    "site1 = 983\n",
    "lcb1_site1 = site1\n",
    "lcb1_promoter.features.append(coral.Feature('LCB1-pam1', site1-20, 23, 'site'))\n",
    "lcb1_g1 = lcb1_promoter[site1-20:site1+3]\n",
    "lcb1_g1.name = 'LCB1-guide1'\n",
    "lcb1_g1.features.append(coral.Feature('LCB1-guide1', 0, 23, 'misc_RNA'))\n",
    "lcb1_g1"
   ]
  },
  {
   "cell_type": "code",
   "execution_count": null,
   "metadata": {
    "collapsed": false
   },
   "outputs": [],
   "source": [
    "site2 = 953-1\n",
    "lcb1_site2 = site2\n",
    "lcb1_promoter.features.append(coral.Feature('LCB1-pam2', site2-20, 23, 'site'))\n",
    "lcb1_g2 = lcb1_promoter[site2-20:site2+3]\n",
    "lcb1_g2.name = 'LCB1-guide1'\n",
    "lcb1_g2.features.append(coral.Feature('LCB1-guide2', 0, 23, 'misc_RNA'))\n",
    "lcb1_g2"
   ]
  },
  {
   "cell_type": "code",
   "execution_count": null,
   "metadata": {
    "collapsed": false
   },
   "outputs": [],
   "source": [
    "template = lcb1_promoter + lcb1_cds\n",
    "template[site2-50:].display()"
   ]
  },
  {
   "cell_type": "markdown",
   "metadata": {},
   "source": [
    "## Make mockup plasmids for each guide RNA"
   ]
  },
  {
   "cell_type": "code",
   "execution_count": null,
   "metadata": {
    "collapsed": false
   },
   "outputs": [],
   "source": [
    "# import template plasmid\n",
    "orig_plasmid = coral.seqio.read_dna('./pmod8-pgalz4-urgr.gb')\n",
    "orig_plasmid.display()"
   ]
  },
  {
   "cell_type": "code",
   "execution_count": null,
   "metadata": {
    "collapsed": false
   },
   "outputs": [],
   "source": [
    "target = orig_plasmid.select_features('Target Sequence')[0]\n",
    "print 'len:', target.stop - target.start\n",
    "orig_plasmid[target.start:target.stop]"
   ]
  },
  {
   "cell_type": "code",
   "execution_count": null,
   "metadata": {
    "collapsed": true
   },
   "outputs": [],
   "source": [
    "def feat(dna, name):\n",
    "    return dna.select_features(name)[0]"
   ]
  },
  {
   "cell_type": "code",
   "execution_count": null,
   "metadata": {
    "collapsed": false
   },
   "outputs": [],
   "source": [
    "def zoom(plasmid):\n",
    "    zoom = (feat(plasmid,'ASBV1').start, feat(plasmid,'gRNA Handle').stop)\n",
    "    pz = plasmid[zoom[0]:zoom[1]]\n",
    "    pz.name += ' (zoom ASBV1..gRNA)'\n",
    "    return pz.display()"
   ]
  },
  {
   "cell_type": "code",
   "execution_count": null,
   "metadata": {
    "collapsed": false
   },
   "outputs": [],
   "source": [
    "zoom(orig_plasmid)"
   ]
  },
  {
   "cell_type": "code",
   "execution_count": null,
   "metadata": {
    "collapsed": false
   },
   "outputs": [],
   "source": [
    "backbone = orig_plasmid.rotate(target.start)[target.stop-target.start:]\n",
    "backbone.display()"
   ]
  },
  {
   "cell_type": "code",
   "execution_count": null,
   "metadata": {
    "collapsed": false
   },
   "outputs": [],
   "source": [
    "lcb1_g1_mockup = (lcb1_g1+backbone).circularize()\n",
    "lcb1_g1_mockup.name = 'pMOD6-killswitch-ASBV1-g1'\n",
    "zoom(lcb1_g1_mockup.rotate(200)) # need to rotate so the zoomed region doesn't wrap around 0"
   ]
  },
  {
   "cell_type": "code",
   "execution_count": null,
   "metadata": {
    "collapsed": false
   },
   "outputs": [],
   "source": [
    "lcb1_g2_mockup = (lcb1_g2+backbone).circularize()\n",
    "lcb1_g2_mockup.name = 'pMOD6-killswitch-ASBV1-g2'\n",
    "zoom(lcb1_g2_mockup.rotate(200)) # need to rotate so the zoomed region doesn't wrap around 0"
   ]
  },
  {
   "cell_type": "markdown",
   "metadata": {},
   "source": [
    "## Design primers"
   ]
  },
  {
   "cell_type": "code",
   "execution_count": null,
   "metadata": {
    "collapsed": false
   },
   "outputs": [],
   "source": [
    "# LCB1 gene, guide for PAM site #1:\n",
    "lcb1_g1"
   ]
  },
  {
   "cell_type": "markdown",
   "metadata": {},
   "source": [
    "Hold the annealling region constant (our guide sequence), and design the overhang to bind with the backbone at 65°C."
   ]
  },
  {
   "cell_type": "code",
   "execution_count": null,
   "metadata": {
    "collapsed": false
   },
   "outputs": [],
   "source": [
    "p = coral.design.primer(backbone.flip(), tm=65)\n",
    "lcb1_g1_fwd = coral.Primer(overhang=p.primer().reverse_complement(), anneal=lcb1_g1, tm=p.tm)\n",
    "lcb1_g1_fwd"
   ]
  },
  {
   "cell_type": "code",
   "execution_count": null,
   "metadata": {
    "collapsed": false
   },
   "outputs": [],
   "source": [
    "p = coral.design.primer(backbone, tm=65)\n",
    "lcb1_g1_rev = coral.Primer(overhang=p.primer().reverse_complement(), anneal=lcb1_g1.flip(), tm=p.tm)\n",
    "lcb1_g1_rev"
   ]
  },
  {
   "cell_type": "markdown",
   "metadata": {},
   "source": [
    "## Simulate PCR with the primers\n",
    "Should get back the guide region plus homology with the plasmid on both sides."
   ]
  },
  {
   "cell_type": "code",
   "execution_count": null,
   "metadata": {
    "collapsed": false
   },
   "outputs": [],
   "source": [
    "lcb1_g1_pcr = coral.reaction.pcr(lcb1_g1_fwd.primer().to_ds(), lcb1_g1_fwd, lcb1_g1_rev)\n",
    "lcb1_g1_pcr"
   ]
  },
  {
   "cell_type": "code",
   "execution_count": null,
   "metadata": {
    "collapsed": false
   },
   "outputs": [],
   "source": [
    "# see if we can find the guide sequence in the output\n",
    "lcb1_g1_pcr.locate(lcb1_g1)"
   ]
  },
  {
   "cell_type": "code",
   "execution_count": null,
   "metadata": {
    "collapsed": false
   },
   "outputs": [],
   "source": [
    "# http://54.68.9.194:81/samples/3351\n",
    "frag1_primers = (\n",
    "    coral.Primer(anneal=coral.DNA('gttttagagctagaaatagcaagttaaaataaggctagtccg'), tm=71.4),\n",
    "    coral.Primer(anneal=coral.DNA('ATCGGAGGACCGAAGGAGCTAACC'), tm=72)\n",
    ")\n",
    "frag1 = coral.reaction.pcr(orig_plasmid, *frag1_primers)\n",
    "print len(frag1)\n",
    "frag1.display()"
   ]
  },
  {
   "cell_type": "code",
   "execution_count": null,
   "metadata": {
    "collapsed": false
   },
   "outputs": [],
   "source": [
    "# http://54.68.9.194:81/samples/5540\n",
    "frag2_primers = (\n",
    "    coral.Primer(anneal=coral.DNA('GGGAGATGGGACGGGCG'), tm=71.86),\n",
    "    coral.Primer(anneal=coral.DNA('GTTCGCCAGTTAATAGTTTGCGCAACG'), tm=72)\n",
    ")\n",
    "frag2 = coral.reaction.pcr(orig_plasmid, *frag2_primers)\n",
    "print len(frag2)\n",
    "frag2.display()"
   ]
  },
  {
   "cell_type": "code",
   "execution_count": null,
   "metadata": {
    "collapsed": false
   },
   "outputs": [],
   "source": [
    "lcb1_g1_gibson = coral.reaction.gibson([frag1, frag2, lcb1_g1_pcr])\n",
    "lcb1_g1_gibson.display()"
   ]
  },
  {
   "cell_type": "code",
   "execution_count": null,
   "metadata": {
    "collapsed": false
   },
   "outputs": [],
   "source": [
    "if lcb1_g1_gibson.is_rotation(lcb1_g1_mockup):\n",
    "    print 'Validated.'"
   ]
  },
  {
   "cell_type": "markdown",
   "metadata": {},
   "source": [
    "### Repeat for LCB1 site #2"
   ]
  },
  {
   "cell_type": "code",
   "execution_count": null,
   "metadata": {
    "collapsed": false
   },
   "outputs": [],
   "source": [
    "p = coral.design.primer(backbone.flip(), tm=65)\n",
    "lcb1_g2_fwd = coral.Primer(overhang=p.primer().reverse_complement(), anneal=lcb1_g2, tm=p.tm)\n",
    "\n",
    "p = coral.design.primer(backbone, tm=65)\n",
    "lcb1_g2_rev = coral.Primer(overhang=p.primer().reverse_complement(), anneal=lcb1_g2.flip(), tm=p.tm)\n",
    "\n",
    "lcb1_g2_pcr = coral.reaction.pcr(lcb1_g2_fwd.primer().to_ds(), lcb1_g2_fwd, lcb1_g2_rev)\n",
    "\n",
    "lcb1_g2_gibson = coral.reaction.gibson([frag1, frag2, lcb1_g2_pcr])\n",
    "\n",
    "if lcb1_g2_gibson.is_rotation(lcb1_g2_mockup):\n",
    "    print 'Validated.'"
   ]
  },
  {
   "cell_type": "markdown",
   "metadata": {},
   "source": [
    "## Repeat for second gene: RPT5"
   ]
  },
  {
   "cell_type": "markdown",
   "metadata": {},
   "source": [
    "Download sequence & find candidate PAM sites."
   ]
  },
  {
   "cell_type": "code",
   "execution_count": null,
   "metadata": {
    "collapsed": false
   },
   "outputs": [],
   "source": [
    "rpt5_promoter = coral.database.get_yeast_promoter_ypa('RPT5')\n",
    "print len(rpt5_promoter)\n",
    "rpt5_promoter.name = 'rpt5-Promoter'\n",
    "rpt5_promoter.features.append(coral.Feature('rpt5-Promoter', 0, len(rpt5_promoter), 'promoter'))\n",
    "\n",
    "rpt5_cds = coral.database.fetch_yeast_locus_sequence('rpt5')\n",
    "rpt5_cds.name = 'RPT5'\n",
    "rpt5_cds.features.append(coral.Feature('RPT5', 0, len(rpt5_cds), 'CDS'))\n",
    "\n",
    "# find 'NGG' sites, list the last 10 in the promoter (forward direction)\n",
    "all_sites = rpt5_promoter.locate('GG')\n",
    "sites = all_sites[0][-10:]\n",
    "sites"
   ]
  },
  {
   "cell_type": "code",
   "execution_count": null,
   "metadata": {
    "collapsed": false
   },
   "outputs": [],
   "source": [
    "site1 = sites[-1]-1\n",
    "rpt5_promoter[site1-20:site1+3]"
   ]
  },
  {
   "cell_type": "code",
   "execution_count": null,
   "metadata": {
    "collapsed": false
   },
   "outputs": [],
   "source": [
    "rpt5_site1 = site1\n",
    "rpt5_promoter.features.append(coral.Feature('rpt5-pam1', site1-20, 23, 'site'))\n",
    "rpt5_g1 = rpt5_promoter[site1-20:site1+3]\n",
    "rpt5_g1.name = 'rpt5-guide1'\n",
    "rpt5_g1.features.append(coral.Feature('rpt5-guide1', 0, 23, 'misc_RNA'))\n",
    "rpt5_g1"
   ]
  },
  {
   "cell_type": "code",
   "execution_count": null,
   "metadata": {
    "collapsed": false
   },
   "outputs": [],
   "source": [
    "# let's do the 3rd site rather than 2nd because the 2nd site overlaps with the first guide\n",
    "site2 = sites[-3]-1\n",
    "rpt5_site2 = site2\n",
    "rpt5_promoter.features.append(coral.Feature('rpt5-pam2', site2-20, 23, 'site'))\n",
    "rpt5_g2 = rpt5_promoter[site2-20:site2+3]\n",
    "rpt5_g2.name = 'rpt5-guide1'\n",
    "rpt5_g2.features.append(coral.Feature('rpt5-guide2', 0, 23, 'misc_RNA'))\n",
    "rpt5_g2"
   ]
  },
  {
   "cell_type": "code",
   "execution_count": null,
   "metadata": {
    "collapsed": false
   },
   "outputs": [],
   "source": [
    "# make mockups\n",
    "rpt5_g1_mockup = (rpt5_g1+backbone).circularize()\n",
    "rpt5_g1_mockup.name = 'pMOD6-killswitch-ASBV1-g1'\n",
    "#zoom(rpt5_g1_mockup.rotate(200)) # need to rotate so the zoomed region doesn't wrap around 0\n",
    "\n",
    "rpt5_g2_mockup = (rpt5_g2+backbone).circularize()\n",
    "rpt5_g2_mockup.name = 'pMOD6-killswitch-ASBV1-g2'\n",
    "#zoom(rpt5_g2_mockup.rotate(200)) # need to rotate so the zoomed region doesn't wrap around 0\n",
    "\n",
    "# design primers\n",
    "p = coral.design.primer(backbone.flip(), tm=65)\n",
    "rpt5_g1_fwd = coral.Primer(overhang=p.primer().reverse_complement(), anneal=rpt5_g1, tm=p.tm)\n",
    "\n",
    "p = coral.design.primer(backbone, tm=65)\n",
    "rpt5_g1_rev = coral.Primer(overhang=p.primer().reverse_complement(), anneal=rpt5_g1.flip(), tm=p.tm)\n",
    "\n",
    "p = coral.design.primer(backbone.flip(), tm=65)\n",
    "rpt5_g2_fwd = coral.Primer(overhang=p.primer().reverse_complement(), anneal=rpt5_g2, tm=p.tm)\n",
    "\n",
    "p = coral.design.primer(backbone, tm=65)\n",
    "rpt5_g2_rev = coral.Primer(overhang=p.primer().reverse_complement(), anneal=rpt5_g2.flip(), tm=p.tm)\n",
    "\n",
    "\n",
    "# validate against mockups\n",
    "rpt5_g1_pcr = coral.reaction.pcr(rpt5_g1_fwd.primer().to_ds(), rpt5_g1_fwd, rpt5_g1_rev)\n",
    "rpt5_g1_gibson = coral.reaction.gibson([frag1, frag2, rpt5_g1_pcr])\n",
    "\n",
    "if rpt5_g1_gibson.is_rotation(rpt5_g1_mockup):\n",
    "    print 'Validated rpt5_g1.'\n",
    "    \n",
    "rpt5_g2_pcr = coral.reaction.pcr(rpt5_g2_fwd.primer().to_ds(), rpt5_g2_fwd, rpt5_g2_rev)\n",
    "rpt5_g2_gibson = coral.reaction.gibson([frag1, frag2, rpt5_g2_pcr])\n",
    "\n",
    "if rpt5_g2_gibson.is_rotation(rpt5_g2_mockup):\n",
    "    print 'Validated rpt5_g2.'\n"
   ]
  }
 ],
 "metadata": {
  "kernelspec": {
   "display_name": "Python 2",
   "language": "python",
   "name": "python2"
  },
  "language_info": {
   "codemirror_mode": {
    "name": "ipython",
    "version": 2
   },
   "file_extension": ".py",
   "mimetype": "text/x-python",
   "name": "python",
   "nbconvert_exporter": "python",
   "pygments_lexer": "ipython2",
   "version": "2.7.10"
  }
 },
 "nbformat": 4,
 "nbformat_minor": 0
}
